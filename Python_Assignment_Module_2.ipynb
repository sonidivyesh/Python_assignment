{
 "cells": [
  {
   "cell_type": "code",
   "execution_count": null,
   "id": "5e21ad38",
   "metadata": {},
   "outputs": [],
   "source": [
    "# Test\n",
    "\n",
    "# [1] Write a Python program to check if a number is positive, negative or zero.\n",
    "\n",
    "num= int(input('Enter any Number; '))\n",
    "if num<=0:\n",
    "    if num==0:\n",
    "        print(num,'= Zero')\n",
    "    else:\n",
    "        print(num,'= Negative')\n",
    "else:\n",
    "    print(num,'= Positive')"
   ]
  },
  {
   "cell_type": "code",
   "execution_count": null,
   "id": "ad56cf0e",
   "metadata": {},
   "outputs": [],
   "source": [
    "# [2] Write a Python program to get the Factorial number of given number.\n",
    "\n",
    "num= int(input('Enter any Number to get Factorial: '))\n",
    "n=1\n",
    "for i in range (num,0,-1):\n",
    "    n=n*i\n",
    "print(n)"
   ]
  },
  {
   "cell_type": "code",
   "execution_count": null,
   "id": "f45ad637",
   "metadata": {},
   "outputs": [],
   "source": [
    "# [3] Fibonacci Series upto given number\n",
    "\n",
    "n1=0\n",
    "n2=1\n",
    "sum=0\n",
    "num = int(input('Enter any Number:'))\n",
    "if num<=0:\n",
    "    print(\"Enter positive integer\")\n",
    "else:\n",
    "    for i in range (0,num):\n",
    "        print(sum, end=' ')\n",
    "        n1=n2\n",
    "        n2=sum\n",
    "        sum= n1+n2"
   ]
  },
  {
   "cell_type": "code",
   "execution_count": null,
   "id": "06824627",
   "metadata": {},
   "outputs": [],
   "source": [
    "# [4] How memory is managed in Python?"
   ]
  },
  {
   "cell_type": "code",
   "execution_count": null,
   "id": "363946df",
   "metadata": {},
   "outputs": [],
   "source": [
    "# [5] Purpose of Continue Statement:\n",
    "\n",
    "# It is a Control Statement.\n",
    "# It skips (leaves) the current iteration, continues from the next iteration."
   ]
  },
  {
   "cell_type": "code",
   "execution_count": null,
   "id": "a14323d3",
   "metadata": {},
   "outputs": [],
   "source": [
    "# [6] Swap two numbers\n",
    "\n",
    "a=int(input('Enter number a: '))\n",
    "b=int(input('Enter number b: '))\n",
    "if a!=b:\n",
    "    a=a+b\n",
    "    b=a-b\n",
    "    a=a-b\n",
    "print()\n",
    "print(a)\n",
    "print(b)"
   ]
  },
  {
   "cell_type": "code",
   "execution_count": null,
   "id": "248dbffa",
   "metadata": {},
   "outputs": [],
   "source": [
    "# [7] Write a Python program to find whether a given number is even or odd, print out an appropriate message to the user.\n",
    "\n",
    "num= int(input('Enter any Number: '))\n",
    "if num%2==0:\n",
    "    print(num,'is Even number')\n",
    "else:\n",
    "    print(num,'is Odd number')"
   ]
  },
  {
   "cell_type": "code",
   "execution_count": null,
   "id": "86568c2a",
   "metadata": {},
   "outputs": [],
   "source": [
    "# [8] Write a Python program to test whether a passed letter is a vowel or not.\n",
    "\n",
    "num=input('Enter any Character')\n",
    "if num in ('a','e','i','o','u','A','E','I','O','U'):\n",
    "    print(num,'is Vowel')\n",
    "else:\n",
    "    print(num,'is Consonent')"
   ]
  },
  {
   "cell_type": "code",
   "execution_count": 11,
   "id": "d356077a",
   "metadata": {},
   "outputs": [
    {
     "name": "stdout",
     "output_type": "stream",
     "text": [
      "Enter no.1 = 5\n",
      "Enter no.2 = 5\n",
      "Enter no.3 = 8\n",
      "Zero\n"
     ]
    }
   ],
   "source": [
    "# [9] Write a Python program to sum of three given integers.However, if two values are equal sum will be zero.\n",
    "\n",
    "n1=int(input('Enter no.1 = '))\n",
    "n2=int(input('Enter no.2 = '))\n",
    "n3=int(input('Enter no.3 = '))\n",
    "if n1==n2 or n2==n3 or n3==n1:\n",
    "    print('Zero')\n",
    "else:\n",
    "    sum=n1+n2+n3\n",
    "    print(sum)"
   ]
  },
  {
   "cell_type": "code",
   "execution_count": 10,
   "id": "a41dab2f",
   "metadata": {},
   "outputs": [
    {
     "name": "stdout",
     "output_type": "stream",
     "text": [
      "Enter no. 1: 5\n",
      "Enter no. 2: 5\n",
      "True\n"
     ]
    }
   ],
   "source": [
    "# [10] Write a Python program that will return true ifthe two given integervalues are equal or their sum or difference is 5.\n",
    "\n",
    "a=int(input('Enter no. 1: '))\n",
    "b=int(input('Enter no. 2: '))\n",
    "sum=a+b\n",
    "c=a-b\n",
    "d=b-a\n",
    "if a==b:\n",
    "    print('True')\n",
    "elif sum==5:\n",
    "    print('True')\n",
    "elif c==5:\n",
    "    print(\"True\")\n",
    "elif d==5:\n",
    "    print('True')\n",
    "else:\n",
    "    print('False')"
   ]
  },
  {
   "cell_type": "code",
   "execution_count": null,
   "id": "c84705a0",
   "metadata": {},
   "outputs": [],
   "source": [
    "# [11] Sum of first n positive integers  ::::::: METHOD- 1\n",
    "\n",
    "num=int(input('Enter the Number: '))\n",
    "sum=int((num*(num+1))/2)\n",
    "print ('Sum of given number',num, 'is: ',sum)\n",
    "\n",
    "\n",
    "# [11] METHOD- 2\n",
    "\n",
    "# num=int(input('Enter the number: '))\n",
    "# n=0\n",
    "# for i in range (1,num+1):\n",
    "#     n=n+i\n",
    "# print('Sum of given number',num, 'is: ',n)"
   ]
  },
  {
   "cell_type": "code",
   "execution_count": null,
   "id": "3b0d600c",
   "metadata": {},
   "outputs": [],
   "source": [
    "# [12] Write a Python program to calculate the length of a string.\n",
    "\n",
    "s1= input(\"Enter a string: \")\n",
    "f= len(s1)\n",
    "print(\"Length of a string is:\",f)"
   ]
  },
  {
   "cell_type": "code",
   "execution_count": null,
   "id": "c56f730c",
   "metadata": {},
   "outputs": [],
   "source": [
    "# [13] Write a Python program to count the number of characters (character frequency) in a string.\n",
    "\n",
    "str= input(\"Enter a string: \")\n",
    "for i in str:\n",
    "    if i.isalpha():\n",
    "        f=str.count(i)\n",
    "        print(i,':',f)"
   ]
  },
  {
   "cell_type": "code",
   "execution_count": null,
   "id": "3037dceb",
   "metadata": {},
   "outputs": [],
   "source": [
    "# [14] What are negative indexes and why are they used?\n",
    "\n",
    "# Negative indexing starts from where the array ends.\n",
    "# TO access the last element or character of a string or array negative indexing is used.\n",
    "# It is generally used to find the index value of a character or element.\n",
    "# For the last element/ character it starts from -1, for second last element/character it is -2, ans so on its values decreases continuously."
   ]
  },
  {
   "cell_type": "code",
   "execution_count": null,
   "id": "ffe96679",
   "metadata": {},
   "outputs": [],
   "source": [
    "# [15] Write a Python program to count occurrences of a substring in a string.\n",
    "\n",
    "str= input(\"Enter a string: \")\n",
    "find= input (\"Enter a character to check its repetition: \")\n",
    "ans= str.count(find)\n",
    "print(ans)"
   ]
  },
  {
   "cell_type": "code",
   "execution_count": 12,
   "id": "77597ebd",
   "metadata": {},
   "outputs": [
    {
     "name": "stdout",
     "output_type": "stream",
     "text": [
      "Enter a string: divyesh is a good fellow , and he is a good person\n",
      "divyesh : 1\n",
      "is : 2\n",
      "a : 2\n",
      "good : 2\n",
      "fellow : 1\n",
      "and : 1\n",
      "he : 1\n",
      "is : 2\n",
      "a : 2\n",
      "good : 2\n",
      "person : 1\n"
     ]
    }
   ],
   "source": [
    "# [16]  Write a Python program to count the occurrences of each word in a given sentence.\n",
    "\n",
    "str= input (\"Enter a string: \")\n",
    "spl= str.split()\n",
    "for i in spl:\n",
    "    if i.isalpha():\n",
    "        ans=spl.count(i)\n",
    "        print(i,':',ans)"
   ]
  },
  {
   "cell_type": "code",
   "execution_count": null,
   "id": "6b303a54",
   "metadata": {},
   "outputs": [],
   "source": [
    "# [17] Write a Python program to get a single string from two given strings, \n",
    "#      separated by a space and swap the first two characters of each string\n",
    "\n",
    "str1= input(\"Enter string 1: \")\n",
    "str2= input(\"Enter string 2: \")\n",
    "f1= str1[0:2]\n",
    "f2= str2[0:2]\n",
    "ans1= str1.replace(f1, f2)\n",
    "ans2= str2.replace(f2, f1)\n",
    "print(ans1,ans2)"
   ]
  },
  {
   "cell_type": "code",
   "execution_count": null,
   "id": "313a457e",
   "metadata": {},
   "outputs": [],
   "source": [
    "# [18] Write a Python program to add 'ing' at the end of a given string (length should be at least 3).\n",
    "#      If the given string already ends with 'ing' then add 'ly'\n",
    "#      instead if the string length of the given string is less than 3, leave it unchanged.\n",
    "\n",
    "str=input(\"Enter a string: \")\n",
    "a='ing'\n",
    "if len(str)>=3 and str.endswith('ing'):\n",
    "    ans1=str.replace('ing', 'ly')\n",
    "    print(ans1)\n",
    "elif len(str)>=3 and str.endswith!=a:\n",
    "    ans2= f'{str}{a}'\n",
    "    print(ans2)\n",
    "elif len(str)<=3:\n",
    "    print(str)"
   ]
  },
  {
   "cell_type": "code",
   "execution_count": 7,
   "id": "e48bd91c",
   "metadata": {},
   "outputs": [
    {
     "name": "stdout",
     "output_type": "stream",
     "text": [
      "Enter a string: i am poor but not fellow\n"
     ]
    }
   ],
   "source": [
    "# [19] Write a Python program to find the first appearance of the substring 'not' and 'poor' from a given string,\n",
    "#      if 'not' follows the 'poor', replace the whole 'not'...'poor'substring with 'good'. Return the resulting string.\n",
    "\n",
    "str=input(\"Enter a string: \")\n",
    "a=str.index('not')\n",
    "b=str.rindex('poor')\n",
    "c=b+4\n",
    "d=str[a:c]\n",
    "ans=str.replace(d,'good')\n",
    "if a<b:\n",
    "    print(ans)"
   ]
  },
  {
   "cell_type": "code",
   "execution_count": 6,
   "id": "0a4bd235",
   "metadata": {},
   "outputs": [
    {
     "name": "stdout",
     "output_type": "stream",
     "text": [
      "Enter a string: I am mit Raju Hetul Mitesh Divyesh hey soni\n",
      "Longest word: Divyesh\n",
      "Length: 7\n"
     ]
    }
   ],
   "source": [
    "# [20] Write a Python function that takes a list of words and returns the length of the longest one.\n",
    "\n",
    "str=input(\"Enter a string: \")\n",
    "length=0\n",
    "for i in str.split():\n",
    "    if len(i)>length:\n",
    "        length=len(i)\n",
    "        longest_word=i\n",
    "print(\"Longest word:\",longest_word)\n",
    "print(\"Length:\",length)"
   ]
  },
  {
   "cell_type": "code",
   "execution_count": 8,
   "id": "0d09b0a7",
   "metadata": {},
   "outputs": [
    {
     "name": "stdout",
     "output_type": "stream",
     "text": [
      "Enter a string: divy\n",
      "yvid\n"
     ]
    }
   ],
   "source": [
    "# [21] Write a Python function to reverses a string if its length is a multiple of 4\n",
    "\n",
    "str1= input(\"Enter a string: \")\n",
    "str2=len(str1)\n",
    "if str2%4==0:\n",
    "    print(str1[::-1])\n",
    "else:\n",
    "    print('0')"
   ]
  },
  {
   "cell_type": "code",
   "execution_count": null,
   "id": "0fe43305",
   "metadata": {},
   "outputs": [],
   "source": [
    "# [22] Write a Python program to get a string made of the first 2 and the last 2 chars from a given a string.\n",
    "# If the string length is lessthan 2, return \"empty string\".\n",
    "# o Sample String:w3resource'\n",
    "# o Expected Result: 'w3ce'\n",
    "# o Sample String: 'w3'\n",
    "# o Expected Result: 'w3w3'\n",
    "# o Sample String: ' w'\n",
    "# o Expected Result: Empty String\n",
    "\n",
    "str=input(\"Enter a string: \")\n",
    "firstTwo= str[0:2]\n",
    "lastTwo= str[-2:]\n",
    "res=firstTwo+lastTwo\n",
    "if len(str)<2:\n",
    "    print(\"Enpty String\")\n",
    "elif len(str)==2:\n",
    "    print(str*2)\n",
    "elif len(str)>=3:\n",
    "    print(firstTwo, lastTwo, sep='')"
   ]
  },
  {
   "cell_type": "code",
   "execution_count": null,
   "id": "96a6d38f",
   "metadata": {},
   "outputs": [],
   "source": [
    "# [23] Write a Python function to insert a string in the middle of a string.\n",
    "\n",
    "str=input(\"Enter a string: \")\n",
    "str2=input(\"Enter a substring to add in middle of a string:  \")\n",
    "mid=len(str)//2\n",
    "a=str[:mid]\n",
    "b=str[mid:]\n",
    "ans= f'{a}{str2}{b}'\n",
    "print(ans)"
   ]
  }
 ],
 "metadata": {
  "kernelspec": {
   "display_name": "Python 3 (ipykernel)",
   "language": "python",
   "name": "python3"
  },
  "language_info": {
   "codemirror_mode": {
    "name": "ipython",
    "version": 3
   },
   "file_extension": ".py",
   "mimetype": "text/x-python",
   "name": "python",
   "nbconvert_exporter": "python",
   "pygments_lexer": "ipython3",
   "version": "3.9.13"
  }
 },
 "nbformat": 4,
 "nbformat_minor": 5
}
