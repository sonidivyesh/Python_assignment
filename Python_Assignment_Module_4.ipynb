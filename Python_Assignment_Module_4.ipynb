{
 "cells": [
  {
   "cell_type": "code",
   "execution_count": 1,
   "id": "8cdfcfb9",
   "metadata": {},
   "outputs": [],
   "source": [
    "# [1] What is File function in python? What is keywords to create and write file.\n",
    "\n",
    "# Python file object provides various modes/methods to manipulate files. like \"read\", \"write\", \"create\", and \"append\".\n",
    "# Keywords to create & write file.\n",
    "# \"x\" - create file\n",
    "# \"w\" - write"
   ]
  },
  {
   "cell_type": "code",
   "execution_count": 10,
   "id": "e9a77ddf",
   "metadata": {},
   "outputs": [],
   "source": [
    "# [2] Write a Python program to read an entire text file.\n",
    "\n",
    "# Assume we have already created file \"example.txt\"\n",
    "# To read this file we need to open this file in read mode and save it in any variable.\n",
    "# And at least we must close file.\n",
    "\n",
    "s1= open(r'D:\\practice in VS Code\\example.txt', 'r')\n",
    "ss= s1.read() # Will read entire file\n",
    "s1.close()"
   ]
  },
  {
   "cell_type": "code",
   "execution_count": 167,
   "id": "c7411d63",
   "metadata": {},
   "outputs": [
    {
     "name": "stdout",
     "output_type": "stream",
     "text": [
      "This is Python 1.\n",
      "This is Python 2.\n",
      "This is Python 3.\n",
      "joji\n"
     ]
    }
   ],
   "source": [
    "# [3] Write a Python program to append text to a file and display the text.\n",
    "\n",
    "s1= open(r'D:\\practice in VS Code\\example.txt', 'r')\n",
    "aa= s1.read()\n",
    "s1.close()\n",
    "s2= open(r'D:\\practice in VS Code\\example.txt', 'a')\n",
    "bb= s2.write('joji')\n",
    "s2.close()\n",
    "s3= open(r'D:\\practice in VS Code\\example.txt', 'r')\n",
    "cc= s3.read()\n",
    "s2.close()\n",
    "print(cc)"
   ]
  },
  {
   "cell_type": "code",
   "execution_count": 168,
   "id": "4d580d6d",
   "metadata": {},
   "outputs": [
    {
     "name": "stdout",
     "output_type": "stream",
     "text": [
      "This is Python 1.\n"
     ]
    }
   ],
   "source": [
    "# [4] Write a Python program to read first n lines of a file.\n",
    "\n",
    "s1= open(r'D:\\practice in VS Code\\example.txt', 'r')\n",
    "ss= s1.read(17)\n",
    "s1.close()\n",
    "print(ss)"
   ]
  },
  {
   "cell_type": "code",
   "execution_count": 169,
   "id": "73c306f4",
   "metadata": {},
   "outputs": [
    {
     "name": "stdout",
     "output_type": "stream",
     "text": [
      "This is Python 3.\n",
      "joji\n"
     ]
    }
   ],
   "source": [
    "# [5] Write a Python program to read last n lines of a file.\n",
    "\n",
    "s1= open(r'D:\\practice in VS Code\\example.txt', 'r')\n",
    "s1.seek(38)\n",
    "kk= s1.read()\n",
    "s1.close()\n",
    "print(kk)"
   ]
  },
  {
   "cell_type": "code",
   "execution_count": 170,
   "id": "f0a244c8",
   "metadata": {},
   "outputs": [
    {
     "name": "stdout",
     "output_type": "stream",
     "text": [
      "['This is Python 1.\\nThis is Python 2.\\nThis is Python 3.\\njoji']\n"
     ]
    }
   ],
   "source": [
    "# [6] Write a Python program to read a file line by line and store it into a list.\n",
    "\n",
    "l1=[]\n",
    "s1= open(r'D:\\practice in VS Code\\example.txt', 'r')\n",
    "k= s1.read()\n",
    "for i in k:\n",
    "    if k not in l1:\n",
    "        l1.append(k)\n",
    "s1.close()\n",
    "print(l1)"
   ]
  },
  {
   "cell_type": "code",
   "execution_count": 171,
   "id": "026a6b63",
   "metadata": {},
   "outputs": [
    {
     "name": "stdout",
     "output_type": "stream",
     "text": [
      "This is Python 1.\n",
      "This is Python 2.\n",
      "This is Python 3.\n",
      "joji\n"
     ]
    }
   ],
   "source": [
    "# [7] Write a Python program to read a file line by line store it into a variable.\n",
    "\n",
    "a=''\n",
    "s1= open(r'D:\\practice in VS Code\\example.txt', 'r')\n",
    "k= s1.read()\n",
    "for i in k:\n",
    "    if k not in a:\n",
    "        a+=k\n",
    "s1.close()\n",
    "print(a)"
   ]
  },
  {
   "cell_type": "code",
   "execution_count": 172,
   "id": "d5da88cf",
   "metadata": {},
   "outputs": [
    {
     "name": "stdout",
     "output_type": "stream",
     "text": [
      "Longest word:  Python\n"
     ]
    }
   ],
   "source": [
    "# [8] Write a python program to find the longest words.\n",
    "\n",
    "s1= open(r'D:\\practice in VS Code\\example.txt', 'r')\n",
    "k= s1.read()\n",
    "longest= max(k.split(), key=len)\n",
    "s1.close()\n",
    "print('Longest word: ',longest)"
   ]
  },
  {
   "cell_type": "code",
   "execution_count": 173,
   "id": "9591ac8f",
   "metadata": {},
   "outputs": [
    {
     "name": "stdout",
     "output_type": "stream",
     "text": [
      "Number of lines:  4\n"
     ]
    }
   ],
   "source": [
    "# [9] Write a Python program to count the number of lines in a text file.\n",
    "\n",
    "s1= open(r'D:\\practice in VS Code\\example.txt', 'r')\n",
    "k= s1.read()\n",
    "lines= len(k.splitlines())\n",
    "print('Number of lines: ',lines)"
   ]
  },
  {
   "cell_type": "code",
   "execution_count": 174,
   "id": "a2f13f45",
   "metadata": {},
   "outputs": [
    {
     "name": "stdout",
     "output_type": "stream",
     "text": [
      "{'This': 3, 'is': 3, 'Python': 3, '1.': 1, '2.': 1, '3.': 1, 'joji': 1}\n"
     ]
    }
   ],
   "source": [
    "# [10] Write a Python program to count the frequency of words in a file.\n",
    "\n",
    "a= {}\n",
    "s1= open(r'D:\\practice in VS Code\\example.txt', 'r')\n",
    "k= s1.read()\n",
    "sp= k.split()\n",
    "for i in sp:\n",
    "    if i not in a:\n",
    "        a[i]=1\n",
    "    else:\n",
    "        a[i]+=1\n",
    "print(a)"
   ]
  },
  {
   "cell_type": "code",
   "execution_count": 175,
   "id": "a35ddea9",
   "metadata": {},
   "outputs": [
    {
     "name": "stdout",
     "output_type": "stream",
     "text": [
      "This is Python 1.\n",
      "This is Python 2.\n",
      "This is Python 3.\n",
      "joji\n",
      "Python\n",
      "DJango\n",
      "Framework\n"
     ]
    }
   ],
   "source": [
    "# [11] Write a Python program to write a list to a file.\n",
    "\n",
    "k= ['\\nPython', 'DJango', 'Framework']\n",
    "s1= open(r'D:\\practice in VS Code\\example.txt', 'a')\n",
    "a= s1.write('\\n'.join(k))\n",
    "s1.close()\n",
    "s2= open(r'D:\\practice in VS Code\\example.txt', 'r')\n",
    "b= s2.read()\n",
    "s2.close()\n",
    "print(b)"
   ]
  },
  {
   "cell_type": "code",
   "execution_count": 180,
   "id": "f14d0713",
   "metadata": {},
   "outputs": [
    {
     "name": "stdout",
     "output_type": "stream",
     "text": [
      "This is Python 1.\n",
      "This is Python 2.\n",
      "This is Python 3.\n",
      "joji\n",
      "Python\n",
      "DJango\n",
      "Framework\n"
     ]
    }
   ],
   "source": [
    "# [12] Write a Python program to copy the contents of a file to another file.\n",
    "\n",
    "s1= open(r'D:\\practice in VS Code\\example.txt', 'r')\n",
    "k= s1.read()\n",
    "s1.close()\n",
    "s2= open(r'D:\\practice in VS Code\\example(copy).txt', 'w')\n",
    "for i in k:\n",
    "    s2.write(i)\n",
    "s2.close()\n",
    "s3= open(r'D:\\practice in VS Code\\example(copy).txt', 'r')\n",
    "b= s3.read()\n",
    "s3.close()\n",
    "print(b)"
   ]
  },
  {
   "cell_type": "code",
   "execution_count": null,
   "id": "39b4a861",
   "metadata": {},
   "outputs": [],
   "source": [
    "# [13] Explain Exception handling? What is an Error in Python?\n",
    "\n",
    "# Exception is an Python object that represents an Error.\n",
    "# Errors = Exception = Problems\n",
    "# When error raise execution stops."
   ]
  },
  {
   "cell_type": "code",
   "execution_count": null,
   "id": "ca51b08b",
   "metadata": {},
   "outputs": [],
   "source": [
    "# [14] How many except statements can a try-except block have? Name Some built-in exception classes:\n",
    "\n",
    "# There has to be at least one except block.\n",
    "# Some built-in exceptiions:\n",
    "# SyntaxError, ValueError, NameError, IndexError, TypeError, KeyError, AttributeError, IndentationError, etc..."
   ]
  },
  {
   "cell_type": "code",
   "execution_count": null,
   "id": "45d0fb1e",
   "metadata": {},
   "outputs": [],
   "source": [
    "# [15] When will the else part of try-except-else be executed?\n",
    "\n",
    "# The else part will be executed \"When No Exception Occurs\"."
   ]
  },
  {
   "cell_type": "code",
   "execution_count": null,
   "id": "442a266f",
   "metadata": {},
   "outputs": [],
   "source": [
    "# [16] Can one block of except statements handle multiple exception?\n",
    "\n",
    "# Yes, a single block of except statements can handle multiple exceptions,\n",
    "# by listing them within parentheses after the except keyword. \n",
    "# This is called a multi-exception catch."
   ]
  },
  {
   "cell_type": "code",
   "execution_count": null,
   "id": "bcff8521",
   "metadata": {},
   "outputs": [],
   "source": [
    "# [17] When is the finally block executed?\n",
    "\n",
    "# Finally block always executes, when Try block exits.\n",
    "# This ensures that the finally block is executed even if an unexpected exception occurs."
   ]
  },
  {
   "cell_type": "code",
   "execution_count": 187,
   "id": "38df9513",
   "metadata": {},
   "outputs": [],
   "source": [
    "# [18] What happens when \"1\"== 1 is executed?\n",
    "\n",
    "# It returns False. Because both the operands are of different types."
   ]
  },
  {
   "cell_type": "code",
   "execution_count": 191,
   "id": "d5b06594",
   "metadata": {},
   "outputs": [
    {
     "name": "stdout",
     "output_type": "stream",
     "text": [
      "Enter an integer: 0\n",
      "This is except block.\n",
      "This is finally block.\n"
     ]
    }
   ],
   "source": [
    "# [19] How Do You Handle Exceptions With Try/Except/Finally In Python? Explain with coding snippets.\n",
    "\n",
    "try:\n",
    "    a=int(input('Enter an integer: '))\n",
    "    print(10/a)\n",
    "except:\n",
    "    print('This is except block.')\n",
    "finally:\n",
    "    print('This is finally block.')"
   ]
  },
  {
   "cell_type": "code",
   "execution_count": 223,
   "id": "0f8259e2",
   "metadata": {},
   "outputs": [
    {
     "name": "stdout",
     "output_type": "stream",
     "text": [
      "Enter Odd number: 6\n"
     ]
    },
    {
     "ename": "ValueError",
     "evalue": "Oops!! Even number entered",
     "output_type": "error",
     "traceback": [
      "\u001b[1;31m---------------------------------------------------------------------------\u001b[0m",
      "\u001b[1;31mValueError\u001b[0m                                Traceback (most recent call last)",
      "\u001b[1;32m~\\AppData\\Local\\Temp\\ipykernel_7064\\867293452.py\u001b[0m in \u001b[0;36m<module>\u001b[1;34m\u001b[0m\n\u001b[0;32m      6\u001b[0m     \u001b[0mnum\u001b[0m\u001b[1;33m=\u001b[0m \u001b[0mint\u001b[0m\u001b[1;33m(\u001b[0m\u001b[0minput\u001b[0m\u001b[1;33m(\u001b[0m\u001b[1;34m'Enter Odd number: '\u001b[0m\u001b[1;33m)\u001b[0m\u001b[1;33m)\u001b[0m\u001b[1;33m\u001b[0m\u001b[1;33m\u001b[0m\u001b[0m\n\u001b[0;32m      7\u001b[0m     \u001b[1;32mif\u001b[0m \u001b[0mnum\u001b[0m\u001b[1;33m%\u001b[0m\u001b[1;36m2\u001b[0m\u001b[1;33m==\u001b[0m\u001b[1;36m0\u001b[0m\u001b[1;33m:\u001b[0m\u001b[1;33m\u001b[0m\u001b[1;33m\u001b[0m\u001b[0m\n\u001b[1;32m----> 8\u001b[1;33m         \u001b[1;32mraise\u001b[0m \u001b[0mValueError\u001b[0m\u001b[1;33m(\u001b[0m\u001b[1;34m'Oops!! Even number entered'\u001b[0m\u001b[1;33m)\u001b[0m\u001b[1;33m\u001b[0m\u001b[1;33m\u001b[0m\u001b[0m\n\u001b[0m\u001b[0;32m      9\u001b[0m     \u001b[1;32melse\u001b[0m\u001b[1;33m:\u001b[0m\u001b[1;33m\u001b[0m\u001b[1;33m\u001b[0m\u001b[0m\n\u001b[0;32m     10\u001b[0m         \u001b[0mprint\u001b[0m\u001b[1;33m(\u001b[0m\u001b[1;34m'Congratulations!!'\u001b[0m\u001b[1;33m)\u001b[0m\u001b[1;33m\u001b[0m\u001b[1;33m\u001b[0m\u001b[0m\n",
      "\u001b[1;31mValueError\u001b[0m: Oops!! Even number entered"
     ]
    }
   ],
   "source": [
    "# [20] Write python program that user to enter only odd numbers, else will raise an exception.\n",
    "\n",
    "class ValueError(Exception):\n",
    "    pass\n",
    "for i in range(3):\n",
    "    num= int(input('Enter Odd number: '))\n",
    "    if num%2==0:\n",
    "        raise ValueError('Oops!! Even number entered')\n",
    "    else:\n",
    "        print('Congratulations!!')"
   ]
  },
  {
   "cell_type": "code",
   "execution_count": null,
   "id": "0f4fa477",
   "metadata": {},
   "outputs": [],
   "source": [
    "# [21] What are oops concepts? Is multiple inheritance supported in java.\n",
    "\n",
    "# - OOPs(Object Oriented Programming) is a programming concept that works on the principles of \n",
    "#   abstraction, encapsulation, inheritance, and polymorphism.\n",
    "# - It allows users to create objects they want and create methods to handle those objects.\n",
    "# - Multiple Inheritence does not support in Java."
   ]
  },
  {
   "cell_type": "code",
   "execution_count": 3,
   "id": "952f04bd",
   "metadata": {},
   "outputs": [
    {
     "name": "stdout",
     "output_type": "stream",
     "text": [
      "Hello\n",
      "This is python\n"
     ]
    }
   ],
   "source": [
    "# [22] How to Define a Class in Python? What Is Self? Give An Example Of A Python Class\n",
    "\n",
    "# Syntax: \n",
    "class A:\n",
    "    def __init__(self):\n",
    "        print(\"Hello\")\n",
    "    def fun_name(self):\n",
    "        print('This is python')\n",
    "a1=A()\n",
    "a1.fun_name()\n",
    "\n",
    "# Self points to the current Instance of the class. "
   ]
  },
  {
   "cell_type": "code",
   "execution_count": 14,
   "id": "a11ad523",
   "metadata": {},
   "outputs": [
    {
     "name": "stdout",
     "output_type": "stream",
     "text": [
      "45\n"
     ]
    }
   ],
   "source": [
    "# [23] Write a Python class named Rectangle constructed by a length and width and a method which will compute the area of a rectangle\n",
    "\n",
    "class Rectangle:\n",
    "    def __init__(self, length, width):\n",
    "        self.length = length\n",
    "        self.width = width\n",
    "    def result(self):\n",
    "        return self.length*self.width\n",
    "r1=Rectangle(5, 9)\n",
    "\n",
    "print(r1.result())"
   ]
  },
  {
   "cell_type": "code",
   "execution_count": 32,
   "id": "7815e3ab",
   "metadata": {},
   "outputs": [
    {
     "name": "stdout",
     "output_type": "stream",
     "text": [
      "113.04\n",
      "37.68\n"
     ]
    }
   ],
   "source": [
    "# [24] Write a Python class named Circle constructed by a radius and two methods which will compute the area and the perimeter of a circle\n",
    "\n",
    "class Circle:\n",
    "    def __init__(self, radius):\n",
    "        self.radius = radius\n",
    "    def area(self):\n",
    "        return self.radius**2*3.14\n",
    "    def perimeter(self):\n",
    "        return 2*self.radius*3.14\n",
    "c1= Circle(6)\n",
    "\n",
    "print(c1.area())\n",
    "print(c1.perimeter())"
   ]
  },
  {
   "cell_type": "code",
   "execution_count": 33,
   "id": "778dce6e",
   "metadata": {},
   "outputs": [
    {
     "name": "stdout",
     "output_type": "stream",
     "text": [
      "113.04\n",
      "37.68\n"
     ]
    }
   ],
   "source": [
    "# [25] Write a Python class named Circle constructed by a radius and two methods which will compute the area and the perimeter of a circle\n",
    "\n",
    "class Circle:\n",
    "    def __init__(self, radius):\n",
    "        self.radius = radius\n",
    "    def area(self):\n",
    "        return self.radius**2*3.14\n",
    "    def perimeter(self):\n",
    "        return 2*self.radius*3.14\n",
    "c1= Circle(6)\n",
    "\n",
    "print(c1.area())\n",
    "print(c1.perimeter())"
   ]
  },
  {
   "cell_type": "code",
   "execution_count": null,
   "id": "ceb2665d",
   "metadata": {},
   "outputs": [],
   "source": [
    "# [26] Explain Inheritance in Python with an example? What is init? Or What Is A Constructor In Python?\n",
    "\n",
    "# Inheritance relationship defines the classes that inherit from other classes as derived, subclass, or sub-type classes.\n",
    "# Base class remains to be the source from which a subclass inherits.\n",
    "# For example, you have a Base class of “Animal,” and a “Lion” is a Derived class. The inheritance will be Lion is an Animal.\n",
    "\n",
    "# A constructor is a special method in a class used to create and initialize an object of a class.\n",
    "# Class ko call karne pe wo class me __init__ method call karta hai."
   ]
  },
  {
   "cell_type": "code",
   "execution_count": null,
   "id": "c154ec78",
   "metadata": {},
   "outputs": [],
   "source": [
    "# [27] What is Instantiation in terms of OOP terminology?\n",
    "\n",
    "# The processes of creating a new object for a class using a new keyword.\n",
    "# In Python, everything is an instance or an object. \n",
    "# Class constructors, which are like blueprints, allow software engineers to create and initialize objects of a given class. \n",
    "# This instantiation process follows the steps of instance creation and instance initialization and makes those objects ready to use."
   ]
  },
  {
   "cell_type": "code",
   "execution_count": null,
   "id": "d123bc52",
   "metadata": {},
   "outputs": [],
   "source": [
    "# [28] What is used to check whether an object o is an instance of class A?\n",
    "\n",
    "# isinstance() function is used, it returns True if the object is of class A or False if not."
   ]
  },
  {
   "cell_type": "code",
   "execution_count": null,
   "id": "09ea2fc2",
   "metadata": {},
   "outputs": [],
   "source": [
    "# [29] What relationship is appropriate for Course and Faculty?\n",
    "\n",
    "# "
   ]
  },
  {
   "cell_type": "code",
   "execution_count": null,
   "id": "3ea609c9",
   "metadata": {},
   "outputs": [],
   "source": [
    "# [30] What relationship is appropriate for Student and Person?\n",
    "\n",
    "# "
   ]
  }
 ],
 "metadata": {
  "kernelspec": {
   "display_name": "Python 3 (ipykernel)",
   "language": "python",
   "name": "python3"
  },
  "language_info": {
   "codemirror_mode": {
    "name": "ipython",
    "version": 3
   },
   "file_extension": ".py",
   "mimetype": "text/x-python",
   "name": "python",
   "nbconvert_exporter": "python",
   "pygments_lexer": "ipython3",
   "version": "3.9.13"
  }
 },
 "nbformat": 4,
 "nbformat_minor": 5
}
